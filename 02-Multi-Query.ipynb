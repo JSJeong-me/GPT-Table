{
  "cells": [
    {
      "cell_type": "markdown",
      "metadata": {
        "colab_type": "text",
        "id": "view-in-github"
      },
      "source": [
        "<a href=\"https://colab.research.google.com/github/JSJeong-me/Retriever/blob/main/02-Multi-Query.ipynb\" target=\"_parent\"><img src=\"https://colab.research.google.com/assets/colab-badge.svg\" alt=\"Open In Colab\"/></a>"
      ]
    },
    {
      "cell_type": "code",
      "execution_count": null,
      "metadata": {
        "id": "dNzSQ3VZffUe"
      },
      "outputs": [],
      "source": [
        "!pip install openai\n",
        "!pip install python-dotenv\n",
        "!pip install langchain"
      ]
    },
    {
      "cell_type": "code",
      "execution_count": 2,
      "metadata": {
        "id": "IktJaHr9fwj_"
      },
      "outputs": [],
      "source": [
        "!echo \"OPENAI_API_KEY=\" >> .env\n",
        "!source /content/.env\n",
        "\n",
        "import os\n",
        "from dotenv import load_dotenv\n",
        "\n",
        "# Load environment variables from .env file\n",
        "load_dotenv()\n",
        "# Access the API key using the variable name defined in the .env file\n",
        "api_key = os.getenv(\"OPENAI_API_KEY\")"
      ]
    },
    {
      "cell_type": "code",
      "execution_count": null,
      "metadata": {
        "id": "DsRwJ2Bpgt7N"
      },
      "outputs": [],
      "source": [
        "!pip install chromadb\n",
        "!pip install tiktoken"
      ]
    },
    {
      "cell_type": "code",
      "execution_count": 5,
      "metadata": {
        "id": "siAZh_YClCay"
      },
      "outputs": [],
      "source": [
        "from langchain.chat_models import ChatOpenAI\n",
        "from langchain.schema.document import Document\n",
        "from langchain.chains.summarize import load_summarize_chain\n",
        "from langchain.document_loaders import WebBaseLoader\n",
        "from langchain.embeddings.openai import OpenAIEmbeddings\n",
        "from langchain.text_splitter import RecursiveCharacterTextSplitter\n",
        "from langchain.retrievers.multi_vector import MultiVectorRetriever\n",
        "from langchain.vectorstores import Chroma\n",
        "from langchain.storage import InMemoryStore\n",
        "import uuid"
      ]
    },
    {
      "cell_type": "code",
      "execution_count": 6,
      "metadata": {
        "colab": {
          "base_uri": "https://localhost:8080/"
        },
        "id": "cqH6zHb5lOVy",
        "outputId": "9347d502-faa6-4fc8-f956-b57c1cf05f85"
      },
      "outputs": [
        {
          "name": "stderr",
          "output_type": "stream",
          "text": [
            "/usr/local/lib/python3.10/dist-packages/langchain_core/_api/deprecation.py:117: LangChainDeprecationWarning: The class `langchain_community.chat_models.openai.ChatOpenAI` was deprecated in langchain-community 0.0.10 and will be removed in 0.2.0. An updated version of the class exists in the langchain-openai package and should be used instead. To use it run `pip install -U langchain-openai` and import as `from langchain_openai import ChatOpenAI`.\n",
            "  warn_deprecated(\n"
          ]
        }
      ],
      "source": [
        "# Get your LLM and summarize chain going\n",
        "llm = ChatOpenAI(temperature=0, model_name=\"gpt-3.5-turbo-16k\")"
      ]
    },
    {
      "cell_type": "code",
      "execution_count": 7,
      "metadata": {
        "id": "EuMDTubjlVRJ"
      },
      "outputs": [],
      "source": [
        "# Loading a single website\n",
        "loader = WebBaseLoader(\"http://www.paulgraham.com/superlinear.html\")\n",
        "docs = loader.load()"
      ]
    },
    {
      "cell_type": "code",
      "execution_count": 9,
      "metadata": {
        "colab": {
          "base_uri": "https://localhost:8080/"
        },
        "id": "5237p8j4lX2R",
        "outputId": "0e98626c-08ee-4f8e-df82-08adf3d2e052"
      },
      "outputs": [
        {
          "name": "stdout",
          "output_type": "stream",
          "text": [
            "Your 1 documents have been split into 5 chunks\n"
          ]
        }
      ],
      "source": [
        "# Split your website into big chunks\n",
        "text_splitter = RecursiveCharacterTextSplitter(chunk_size=7000, chunk_overlap=0)\n",
        "chunks = text_splitter.split_documents(docs)\n",
        "\n",
        "print (f\"Your {len(docs)} documents have been split into {len(chunks)} chunks\")"
      ]
    },
    {
      "cell_type": "code",
      "execution_count": 10,
      "metadata": {
        "id": "G_xhtXzDldF1"
      },
      "outputs": [],
      "source": [
        "chain = load_summarize_chain(llm)"
      ]
    },
    {
      "cell_type": "code",
      "execution_count": 11,
      "metadata": {
        "colab": {
          "base_uri": "https://localhost:8080/"
        },
        "id": "OoOqP9z-l0Ak",
        "outputId": "d2d04320-02b4-44c2-9879-753661a4c410"
      },
      "outputs": [
        {
          "name": "stderr",
          "output_type": "stream",
          "text": [
            "/usr/local/lib/python3.10/dist-packages/langchain_core/_api/deprecation.py:117: LangChainDeprecationWarning: The function `run` was deprecated in LangChain 0.1.0 and will be removed in 0.2.0. Use invoke instead.\n",
            "  warn_deprecated(\n"
          ]
        },
        {
          "name": "stdout",
          "output_type": "stream",
          "text": [
            "You have 5 summaries to go along with your 5 chunks\n"
          ]
        }
      ],
      "source": [
        "id_key = \"doc_id\" # This is the key that we will tell the retriever to connect the summaries and original docs on\n",
        "\n",
        "summaries = [] # To hold our summaries\n",
        "\n",
        "for chunk in chunks:\n",
        "    # First let's get an ID that we'll assign to the chunk and summary. You don't need a UUID here, use whatever you want\n",
        "    unique_id = str(uuid.uuid4())\n",
        "\n",
        "    # Then let's get the summary\n",
        "    chunk_summary = chain.run([chunk])\n",
        "    chunk_summary_document = Document(page_content=chunk_summary, metadata={id_key: unique_id}) # Give the ID to the summary\n",
        "    summaries.append(chunk_summary_document)\n",
        "\n",
        "    # Then finnally add that same id to your chunk\n",
        "    chunk.metadata[id_key] = unique_id\n",
        "\n",
        "print (f\"You have {len(summaries)} summaries to go along with your {len(chunks)} chunks\")"
      ]
    },
    {
      "cell_type": "markdown",
      "metadata": {
        "id": "8uk6B0UlmYGd"
      },
      "source": [
        "### Now we will set up our vectorstore (to hold the summaries and their embeddings) and docstore (to hold the original plain text chunks)."
      ]
    },
    {
      "cell_type": "code",
      "execution_count": 12,
      "metadata": {
        "colab": {
          "base_uri": "https://localhost:8080/"
        },
        "id": "V_adY13jmA7l",
        "outputId": "afa9690f-7f6b-4a12-a788-3803e7a0ca90"
      },
      "outputs": [
        {
          "name": "stderr",
          "output_type": "stream",
          "text": [
            "/usr/local/lib/python3.10/dist-packages/langchain_core/_api/deprecation.py:117: LangChainDeprecationWarning: The class `langchain_community.embeddings.openai.OpenAIEmbeddings` was deprecated in langchain-community 0.1.0 and will be removed in 0.2.0. An updated version of the class exists in the langchain-openai package and should be used instead. To use it run `pip install -U langchain-openai` and import as `from langchain_openai import OpenAIEmbeddings`.\n",
            "  warn_deprecated(\n"
          ]
        }
      ],
      "source": [
        "# The vectorstore to use to index the summary chunks\n",
        "vectorstore = Chroma(collection_name=\"summaries\", embedding_function=OpenAIEmbeddings())\n",
        "\n",
        "# The storage layer for the parent documents\n",
        "docstore = InMemoryStore()"
      ]
    },
    {
      "cell_type": "code",
      "execution_count": 13,
      "metadata": {
        "id": "M2YosTODmZ_0"
      },
      "outputs": [],
      "source": [
        "# The retriever (empty to start)\n",
        "retriever = MultiVectorRetriever(\n",
        "    vectorstore=vectorstore,\n",
        "    docstore=docstore,\n",
        "    id_key=id_key, # \"Hey, what should we join on?\"\n",
        ")"
      ]
    },
    {
      "cell_type": "code",
      "execution_count": 14,
      "metadata": {
        "colab": {
          "base_uri": "https://localhost:8080/"
        },
        "id": "vHO5Er8LmgCG",
        "outputId": "c28c3e44-a890-4b05-8384-be06b7ddd1b5"
      },
      "outputs": [
        {
          "data": {
            "text/plain": [
              "['465a68a4-b340-11ee-af78-0242ac1c000c',\n",
              " '465a6b06-b340-11ee-af78-0242ac1c000c',\n",
              " '465a6bd8-b340-11ee-af78-0242ac1c000c',\n",
              " '465a6ca0-b340-11ee-af78-0242ac1c000c',\n",
              " '465a6d54-b340-11ee-af78-0242ac1c000c']"
            ]
          },
          "execution_count": 14,
          "metadata": {},
          "output_type": "execute_result"
        }
      ],
      "source": [
        "# Add your summary docs (with their ids) to the vectorstore. I'm unsure why a list of a uuid is returned, might be a bug.\n",
        "retriever.vectorstore.add_documents(summaries)"
      ]
    },
    {
      "cell_type": "code",
      "execution_count": 15,
      "metadata": {
        "id": "Zz7YP3L5mpTP"
      },
      "outputs": [],
      "source": [
        "_similar_docs = retriever.vectorstore.similarity_search(\"What is is the influence of organizations on equity?\")"
      ]
    },
    {
      "cell_type": "code",
      "execution_count": 17,
      "metadata": {
        "id": "yFmpWAmgmyTM"
      },
      "outputs": [],
      "source": [
        "Doc01 = _similar_docs[0]"
      ]
    },
    {
      "cell_type": "code",
      "execution_count": 19,
      "metadata": {
        "colab": {
          "base_uri": "https://localhost:8080/"
        },
        "id": "o61n4xXJnEmE",
        "outputId": "6bcacca4-b2c6-4d14-8105-9e6bce529cf9"
      },
      "outputs": [
        {
          "data": {
            "text/plain": [
              "Document(page_content=\"The passage discusses various topics related to learning, competition, equity, and wealth accumulation. It emphasizes the importance of gradual improvements in technique rather than relying on a few exceptional individuals. It also explores the concept of superlinear returns and how it relates to effort and motivation. The passage suggests that seeking competition can be a good heuristic but is not always a reliable indicator of promising problems. It mentions the influence of organizations and institutions on outcomes and the potential conflict with the concept of equity. The passage also touches on the shift from resource capture to discovery as a means of wealth accumulation. It concludes by highlighting the conventional-minded people's dislike of inequality and their inability to understand novel ideas.\", metadata={'doc_id': '9cb5bb0e-0ee2-45f2-8503-5f1f840a0acb'})"
            ]
          },
          "execution_count": 19,
          "metadata": {},
          "output_type": "execute_result"
        }
      ],
      "source": [
        "Doc01"
      ]
    },
    {
      "cell_type": "markdown",
      "metadata": {
        "id": "Ir6AFrOCnaya"
      },
      "source": [
        "위 return 값을 parshing 하여  page_content'  filed 값을 extract하는 python code 작성"
      ]
    },
    {
      "cell_type": "code",
      "execution_count": 20,
      "metadata": {
        "colab": {
          "base_uri": "https://localhost:8080/",
          "height": 147
        },
        "id": "rOVEy3jKm2dA",
        "outputId": "f97dabd5-05aa-4dfb-b028-5916187c7629"
      },
      "outputs": [
        {
          "data": {
            "application/vnd.google.colaboratory.intrinsic+json": {
              "type": "string"
            },
            "text/plain": [
              "\"The passage discusses various topics related to learning, competition, equity, and wealth accumulation. It emphasizes the importance of gradual improvements in technique rather than relying on a few exceptional individuals. It also explores the concept of superlinear returns and how it relates to effort and motivation. The passage suggests that seeking competition can be a good heuristic but is not always a reliable indicator of promising problems. It mentions the influence of organizations and institutions on outcomes and the potential conflict with the concept of equity. The passage also touches on the shift from resource capture to discovery as a means of wealth accumulation. It concludes by highlighting the conventional-minded people's dislike of inequality and their inability to understand novel ideas.\""
            ]
          },
          "execution_count": 20,
          "metadata": {},
          "output_type": "execute_result"
        }
      ],
      "source": [
        "import json\n",
        "\n",
        "# Given JSON data\n",
        "json_data = {\n",
        "    \"page_content\": \"The passage discusses various topics related to learning, competition, equity, and wealth accumulation. It emphasizes the importance of gradual improvements in technique rather than relying on a few exceptional individuals. It also explores the concept of superlinear returns and how it relates to effort and motivation. The passage suggests that seeking competition can be a good heuristic but is not always a reliable indicator of promising problems. It mentions the influence of organizations and institutions on outcomes and the potential conflict with the concept of equity. The passage also touches on the shift from resource capture to discovery as a means of wealth accumulation. It concludes by highlighting the conventional-minded people's dislike of inequality and their inability to understand novel ideas.\",\n",
        "    \"metadata\": {'doc_id': '9cb5bb0e-0ee2-45f2-8503-5f1f840a0acb'}\n",
        "}\n",
        "\n",
        "# Extracting the 'page_content' field value\n",
        "page_content = json_data.get(\"page_content\", None)\n",
        "page_content\n",
        "\n"
      ]
    },
    {
      "cell_type": "code",
      "execution_count": 21,
      "metadata": {
        "id": "NNDPGA16np_f"
      },
      "outputs": [],
      "source": [
        "# This will give each of your splits the ID you made earlier\n",
        "retriever.docstore.mset([(x.metadata[id_key], x) for x in chunks])"
      ]
    },
    {
      "cell_type": "code",
      "execution_count": 22,
      "metadata": {
        "colab": {
          "base_uri": "https://localhost:8080/"
        },
        "id": "-sTCqy-0ns-n",
        "outputId": "b7a099ff-903a-4431-e128-e27ad20e1153"
      },
      "outputs": [
        {
          "name": "stdout",
          "output_type": "stream",
          "text": [
            "gradual improvements in technique, not the discoveries of a few\n",
            "exceptionally learned people.[3]\n",
            "It's not mathematically correct to describe a step function as\n",
            "superlinear, but a step function starting from zero works like a\n",
            "superlinear function when it describes the reward curve for effort\n",
            "by a rational actor. If it starts at zero then the part before the\n",
            "step is below any linearly increasing return, and the part after\n",
            "the step must be above the necessary return at that point or no one\n",
            "would bo\n",
            "{'source': 'http://www.paulgraham.com/superlinear.html', 'title': 'Superlinear Returns', 'language': 'No language found.', 'doc_id': '9cb5bb0e-0ee2-45f2-8503-5f1f840a0acb'}\n"
          ]
        }
      ],
      "source": [
        "retrieved_docs = retriever.get_relevant_documents(\"What is is the influence of organizations on equity?\")\n",
        "print (retrieved_docs[0].page_content[:500])\n",
        "print (retrieved_docs[0].metadata)"
      ]
    },
    {
      "cell_type": "code",
      "execution_count": null,
      "metadata": {
        "id": "pEZhsAmVnvV8"
      },
      "outputs": [],
      "source": []
    }
  ],
  "metadata": {
    "colab": {
      "authorship_tag": "ABX9TyNqCjgjpLdB8rz8nh3ilkA+",
      "include_colab_link": true,
      "provenance": []
    },
    "kernelspec": {
      "display_name": "Python 3",
      "name": "python3"
    },
    "language_info": {
      "name": "python"
    }
  },
  "nbformat": 4,
  "nbformat_minor": 0
}
